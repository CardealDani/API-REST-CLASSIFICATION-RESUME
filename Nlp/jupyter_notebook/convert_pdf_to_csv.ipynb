{
 "cells": [
  {
   "cell_type": "code",
   "execution_count": 2,
   "metadata": {},
   "outputs": [],
   "source": [
    "import pandas as pd\n",
    "import re\n",
    "import spacy\n",
    "import fitz  \n",
    "from nltk.tokenize import word_tokenize\n",
    "from nltk.corpus import stopwords\n",
    "import nltk\n",
    "import joblib\n",
    "import numpy as np\n",
    "from classMap import class_mapping\n",
    "# nltk.download('stopwords')\n",
    "# nltk.download('punkt')\n",
    "\n",
    "\n",
    "nlp = spacy.load(\"en_core_web_lg\")"
   ]
  },
  {
   "cell_type": "code",
   "execution_count": 51,
   "metadata": {},
   "outputs": [],
   "source": [
    "def clean_text(text):\n",
    "    text = text.lower()\n",
    "    text = re.sub(r'http\\S+', '', text)  \n",
    "    text = re.sub(r'@\\w+', '', text)  \n",
    "    text = re.sub(r'\\d+', '', text)  \n",
    "    text = re.sub(r'\\W+', ' ', text)  \n",
    "    text = re.sub(r'\\s+', ' ', text).strip()  \n",
    "    return text"
   ]
  },
  {
   "cell_type": "code",
   "execution_count": 52,
   "metadata": {},
   "outputs": [],
   "source": [
    "def lemmatize_tokens(tokens):\n",
    "    doc = nlp(\" \".join(tokens))\n",
    "    return [token.lemma_ for token in doc]"
   ]
  },
  {
   "cell_type": "code",
   "execution_count": 53,
   "metadata": {},
   "outputs": [],
   "source": [
    "def extract_text_from_pdf(pdf_path):\n",
    "    doc = fitz.open(pdf_path)\n",
    "    text = \"\"\n",
    "    for page_num in range(len(doc)):\n",
    "        page = doc.load_page(page_num)\n",
    "        text += page.get_text()\n",
    "    return text"
   ]
  },
  {
   "cell_type": "code",
   "execution_count": 54,
   "metadata": {},
   "outputs": [],
   "source": [
    "def preprocess_text(text):\n",
    "    text = clean_text(text)\n",
    "    tokens = word_tokenize(text)\n",
    "    stop_words = set(stopwords.words('english'))\n",
    "    tokens = [word for word in tokens if word not in stop_words]\n",
    "    tokens = lemmatize_tokens(tokens)\n",
    "    return \" \".join(tokens)"
   ]
  },
  {
   "cell_type": "code",
   "execution_count": 55,
   "metadata": {},
   "outputs": [],
   "source": [
    "model = joblib.load('Nlp/model-class.pkl')\n",
    "vectorizer = joblib.load('Nlp/vectorizer-class.pkl')\n"
   ]
  },
  {
   "cell_type": "code",
   "execution_count": 56,
   "metadata": {},
   "outputs": [],
   "source": [
    "\n",
    "\n",
    "def predict_formation(pdf_path, model, vectorizer):\n",
    "    text = extract_text_from_pdf(pdf_path)\n",
    "    processed_text = preprocess_text(text)\n",
    "    X = vectorizer.transform([processed_text])\n",
    "    prediction = model.predict(X)\n",
    "    probabilities = model.predict_proba(X)\n",
    "    return prediction,probabilities\n",
    "\n",
    "\n",
    "def top_probabilities(probabilities):\n",
    "    top_indices = np.argsort(probabilities[0])[::-1][:5]\n",
    "    result = []\n",
    "    for idx in top_indices:\n",
    "        class_name = [key for key, value in class_mapping.items() if value == idx][0]\n",
    "        prob_percent = probabilities[0][idx] * 100\n",
    "        result.append(f\"{class_name}: {prob_percent:.2f}%\") \n",
    "    return result\n"
   ]
  },
  {
   "cell_type": "code",
   "execution_count": 57,
   "metadata": {},
   "outputs": [],
   "source": [
    "senior_model = joblib.load('model_seniority.pkl')\n",
    "vectorizer_senior = joblib.load('vectorizer_seniority.pkl')\n",
    "from Nlp.classMapSeniority import class_mapping_seniority\n",
    "\n",
    "def predict_seniority(pdf_path, model, vectorizer):\n",
    "    text = extract_text_from_pdf(pdf_path)\n",
    "    processed_text = preprocess_text(text)\n",
    "    X = vectorizer.transform([processed_text])\n",
    "    prediction = model.predict(X)\n",
    "    class_name = [key for key, value in class_mapping_seniority.items() if value == prediction]\n",
    "    return class_name\n",
    "\n",
    "\n"
   ]
  },
  {
   "cell_type": "code",
   "execution_count": 61,
   "metadata": {},
   "outputs": [
    {
     "name": "stdout",
     "output_type": "stream",
     "text": [
      "['BUSINESS-DEVELOPMENT: 62.71%', 'AVIATION: 12.56%', 'BANKING: 6.47%', 'BPO: 1.50%', 'AGRICULTURE: 1.42%']\n",
      "['Senior']\n"
     ]
    }
   ],
   "source": [
    "pdf_path = 'path_file.pdf'\n",
    "senior = predict_seniority(pdf_path,senior_model,vectorizer_senior)\n",
    "result,probabilities = predict_formation(pdf_path,model,vectorizer)\n",
    "\n",
    "print(top_probabilities(probabilities))\n",
    "\n",
    "print(senior)\n"
   ]
  }
 ],
 "metadata": {
  "kernelspec": {
   "display_name": ".venv",
   "language": "python",
   "name": "python3"
  },
  "language_info": {
   "codemirror_mode": {
    "name": "ipython",
    "version": 3
   },
   "file_extension": ".py",
   "mimetype": "text/x-python",
   "name": "python",
   "nbconvert_exporter": "python",
   "pygments_lexer": "ipython3",
   "version": "3.10.12"
  }
 },
 "nbformat": 4,
 "nbformat_minor": 2
}
